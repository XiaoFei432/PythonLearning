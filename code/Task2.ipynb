{
 "cells": [
  {
   "cell_type": "code",
   "execution_count": 13,
   "metadata": {},
   "outputs": [
    {
     "name": "stdout",
     "output_type": "stream",
     "text": [
      "1\n",
      "2\n",
      "3\n",
      "2 <class 'int'>\n",
      "- 3\n",
      "- 4\n",
      "hello <class 'str'>\n"
     ]
    }
   ],
   "source": [
    "# 创建列表\n",
    "array2 = [2,[3,4],\"hello\"]\n",
    "#遍历列表\n",
    "for arr in array2:\n",
    "    if type(arr)==list:\n",
    "        for ar in arr:\n",
    "            print('-',ar)\n",
    "    else:\n",
    "        print(arr,type(arr))"
   ]
  },
  {
   "cell_type": "code",
   "execution_count": 17,
   "metadata": {},
   "outputs": [
    {
     "name": "stdout",
     "output_type": "stream",
     "text": [
      "[1, 2, 3, 6]\n"
     ]
    }
   ],
   "source": [
    "#列表末尾追加元素\n",
    "array = [1,2,3]\n",
    "array.append(6)\n",
    "print(array)"
   ]
  },
  {
   "cell_type": "code",
   "execution_count": 20,
   "metadata": {},
   "outputs": [
    {
     "name": "stdout",
     "output_type": "stream",
     "text": [
      "[1, 2, 3, 4, 5]\n",
      "[1, 2, 4, 5]\n"
     ]
    }
   ],
   "source": [
    "#列表删除元素\n",
    "array = [1,2,3,4,5,6]\n",
    "array.pop()  #无参\n",
    "print(array)\n",
    "array.pop(2) #有参\n",
    "print(array)"
   ]
  },
  {
   "cell_type": "code",
   "execution_count": 23,
   "metadata": {},
   "outputs": [
    {
     "name": "stdout",
     "output_type": "stream",
     "text": [
      "[1, 2, 4, 3, 4, 5]\n"
     ]
    }
   ],
   "source": [
    "#列表插入元素\n",
    "array = [1,2,3,4,5]\n",
    "array.insert(2,4)\n",
    "print(array)"
   ]
  },
  {
   "cell_type": "code",
   "execution_count": 27,
   "metadata": {},
   "outputs": [
    {
     "name": "stdout",
     "output_type": "stream",
     "text": [
      "[2, 3, 4, 5] 2\n"
     ]
    }
   ],
   "source": [
    "#利用del释放空间来删除元素\n",
    "array = [1,2,3,4,5]\n",
    "del array[0]\n",
    "print(array,array[0])"
   ]
  },
  {
   "cell_type": "code",
   "execution_count": 28,
   "metadata": {},
   "outputs": [
    {
     "name": "stdout",
     "output_type": "stream",
     "text": [
      "old: [1, 2, [3, 5], 4, 5]\n",
      "new: [1, 2, [3, 5], 4, 5]\n"
     ]
    }
   ],
   "source": [
    "# 非拷贝\n",
    "old = [1,2,3,4,5]\n",
    "new = old\n",
    "old[2] = [3,5]\n",
    "print('old:',old)\n",
    "print('new:',new)"
   ]
  },
  {
   "cell_type": "code",
   "execution_count": 37,
   "metadata": {},
   "outputs": [
    {
     "name": "stdout",
     "output_type": "stream",
     "text": [
      "Before:\n",
      "[1, [1, 2, 3], 3]\n",
      "[1, [1, 2, 3], 3]\n",
      "After:\n",
      "[1, [3, 2, 3], 3]\n",
      "[3, [3, 2, 3], 3]\n"
     ]
    }
   ],
   "source": [
    "# 浅拷贝\n",
    "old = [1,[1,2,3],3]\n",
    "new = old.copy()\n",
    "print('Before:')\n",
    "print(old)\n",
    "print(new)\n",
    "new[0] = 3\n",
    "new[1][0] =3\n",
    "print('After:')\n",
    "print(old)\n",
    "print(new)"
   ]
  },
  {
   "cell_type": "code",
   "execution_count": 38,
   "metadata": {},
   "outputs": [
    {
     "name": "stdout",
     "output_type": "stream",
     "text": [
      "Before:\n",
      "[1, [1, 2, 3], 3]\n",
      "[1, [1, 2, 3], 3]\n",
      "After:\n",
      "[1, [1, 2, 3], 3]\n",
      "[3, [3, 2, 3], 3]\n"
     ]
    }
   ],
   "source": [
    "#深拷贝\n",
    "import copy\n",
    "old = [1,[1,2,3],3]\n",
    "new = copy.deepcopy(old)\n",
    "print('Before:')\n",
    "print(old)\n",
    "print(new)\n",
    "new[0] = 3\n",
    "new[1][0] = 3\n",
    "print('After:')\n",
    "print(old)\n",
    "print(new)"
   ]
  },
  {
   "cell_type": "code",
   "execution_count": 43,
   "metadata": {},
   "outputs": [
    {
     "name": "stdout",
     "output_type": "stream",
     "text": [
      "hello\n"
     ]
    },
    {
     "ename": "TypeError",
     "evalue": "'tuple' object does not support item assignment",
     "output_type": "error",
     "traceback": [
      "\u001b[1;31m---------------------------------------------------------------------------\u001b[0m",
      "\u001b[1;31mTypeError\u001b[0m                                 Traceback (most recent call last)",
      "\u001b[1;32m<ipython-input-43-454f48cb3165>\u001b[0m in \u001b[0;36m<module>\u001b[1;34m\u001b[0m\n\u001b[0;32m      2\u001b[0m \u001b[0mtup\u001b[0m \u001b[1;33m=\u001b[0m \u001b[1;33m(\u001b[0m\u001b[1;36m2\u001b[0m\u001b[1;33m,\u001b[0m\u001b[1;36m3\u001b[0m\u001b[1;33m,\u001b[0m\u001b[1;34m'hello'\u001b[0m\u001b[1;33m,\u001b[0m\u001b[1;33m(\u001b[0m\u001b[1;36m3\u001b[0m\u001b[1;33m,\u001b[0m\u001b[1;36m4\u001b[0m\u001b[1;33m)\u001b[0m\u001b[1;33m)\u001b[0m\u001b[1;33m\u001b[0m\u001b[1;33m\u001b[0m\u001b[0m\n\u001b[0;32m      3\u001b[0m \u001b[0mprint\u001b[0m\u001b[1;33m(\u001b[0m\u001b[0mtup\u001b[0m\u001b[1;33m[\u001b[0m\u001b[1;36m2\u001b[0m\u001b[1;33m]\u001b[0m\u001b[1;33m)\u001b[0m\u001b[1;33m\u001b[0m\u001b[1;33m\u001b[0m\u001b[0m\n\u001b[1;32m----> 4\u001b[1;33m \u001b[0mtup\u001b[0m\u001b[1;33m[\u001b[0m\u001b[1;36m2\u001b[0m\u001b[1;33m]\u001b[0m \u001b[1;33m=\u001b[0m \u001b[1;36m4\u001b[0m\u001b[1;33m\u001b[0m\u001b[1;33m\u001b[0m\u001b[0m\n\u001b[0m",
      "\u001b[1;31mTypeError\u001b[0m: 'tuple' object does not support item assignment"
     ]
    }
   ],
   "source": [
    "#tuple不可变性\n",
    "tup = (2,3,'hello',(3,4))\n",
    "print(tup[2])\n",
    "tup[2] = 4"
   ]
  },
  {
   "cell_type": "code",
   "execution_count": 46,
   "metadata": {},
   "outputs": [
    {
     "name": "stdout",
     "output_type": "stream",
     "text": [
      "hello pythonhello python\n",
      "hello pythonhello pythonhello python\n"
     ]
    }
   ],
   "source": [
    "string = 'hello python'\n",
    "string += string\n",
    "print(string) \n",
    "string = 'hello python'\n",
    "print(string*3) "
   ]
  },
  {
   "cell_type": "code",
   "execution_count": null,
   "metadata": {},
   "outputs": [],
   "source": []
  }
 ],
 "metadata": {
  "kernelspec": {
   "display_name": "Python 3",
   "language": "python",
   "name": "python3"
  },
  "language_info": {
   "codemirror_mode": {
    "name": "ipython",
    "version": 3
   },
   "file_extension": ".py",
   "mimetype": "text/x-python",
   "name": "python",
   "nbconvert_exporter": "python",
   "pygments_lexer": "ipython3",
   "version": "3.7.1"
  }
 },
 "nbformat": 4,
 "nbformat_minor": 2
}
