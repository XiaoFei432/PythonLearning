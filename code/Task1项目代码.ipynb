{
 "cells": [
  {
   "cell_type": "code",
   "execution_count": 1,
   "metadata": {},
   "outputs": [
    {
     "name": "stdout",
     "output_type": "stream",
     "text": [
      "data和data2的值分别为 100 , 120\n"
     ]
    }
   ],
   "source": [
    "#print\n",
    "data = 100\n",
    "data2 = 120\n",
    "print('data和data2的值分别为',data,',',data2)"
   ]
  },
  {
   "cell_type": "code",
   "execution_count": 2,
   "metadata": {},
   "outputs": [
    {
     "name": "stdout",
     "output_type": "stream",
     "text": [
      "data:100 data2:120\n",
      "data:100 data2:120\n",
      "data:100 data2:120\n"
     ]
    }
   ],
   "source": [
    "#格式化print\n",
    "print('data:{} data2:{}'.format(data,data2))\n",
    "print('data:{1} data2:{0}'.format(data2,data))\n",
    "print('data:{data} data2:{data2}'.format(data=data,data2=data2))"
   ]
  },
  {
   "cell_type": "code",
   "execution_count": 10,
   "metadata": {},
   "outputs": [
    {
     "name": "stdout",
     "output_type": "stream",
     "text": [
      "请输入你的值2 3 5\n",
      "5\n"
     ]
    }
   ],
   "source": [
    "#input的用法,input接收的是字符串，包括空格\n",
    "a = input('请输入你的值')\n",
    "print(len(a))"
   ]
  },
  {
   "cell_type": "code",
   "execution_count": 14,
   "metadata": {},
   "outputs": [
    {
     "name": "stdout",
     "output_type": "stream",
     "text": [
      "[2, 3]\n",
      "[4, 5, 6, 7, 8]\n",
      "[4, 6]\n"
     ]
    }
   ],
   "source": [
    "# :的分布作用\n",
    "list1 = [2,3,4,5,6,7,8]\n",
    "print(list1[:2])\n",
    "print(list1[2:])\n",
    "print(list1[2:6:2])"
   ]
  },
  {
   "cell_type": "code",
   "execution_count": 2,
   "metadata": {},
   "outputs": [
    {
     "name": "stdout",
     "output_type": "stream",
     "text": [
      "100 256 4 1010102432423545110010101012\n"
     ]
    }
   ],
   "source": [
    "# int数值进制\n",
    "a = 100\n",
    "b = 0x100\n",
    "c = 0b100\n",
    "d = 1010102432423545110010101012\n",
    "print(a,b,c,d)"
   ]
  },
  {
   "cell_type": "code",
   "execution_count": 9,
   "metadata": {},
   "outputs": [
    {
     "name": "stdout",
     "output_type": "stream",
     "text": [
      "123700000.0 1.237e-08\n"
     ]
    }
   ],
   "source": [
    "#e记法\n",
    "num = 1.237e8\n",
    "num2 = 1.237e-8\n",
    "print(num,num2)"
   ]
  },
  {
   "cell_type": "code",
   "execution_count": 11,
   "metadata": {},
   "outputs": [
    {
     "name": "stdout",
     "output_type": "stream",
     "text": [
      "9/2= 4.5\n",
      "9//2= 4\n",
      "9**2= 81\n"
     ]
    }
   ],
   "source": [
    "#特殊的算术运算符\n",
    "print('9/2=',9/2)\n",
    "print('9//2=',9//2)\n",
    "print('9**2=',9**2)"
   ]
  },
  {
   "cell_type": "code",
   "execution_count": 14,
   "metadata": {},
   "outputs": [
    {
     "name": "stdout",
     "output_type": "stream",
     "text": [
      "0 and 5 = 0\n",
      "2 and 5 = 5\n",
      "not 5 = False\n"
     ]
    }
   ],
   "source": [
    "#逻辑运算符\n",
    "print('0 and 5 =',0 and 5)\n",
    "print('2 and 5 =',2 and 5)\n",
    "print('not 5 =',not 5)"
   ]
  },
  {
   "cell_type": "code",
   "execution_count": 19,
   "metadata": {},
   "outputs": [
    {
     "name": "stdout",
     "output_type": "stream",
     "text": [
      "2 in array = True\n",
      "6 in array = False\n",
      "5 not in array = False\n",
      "7 not in array = True\n"
     ]
    }
   ],
   "source": [
    "#成员运算符\n",
    "array = [1,2,3,4,5]\n",
    "print('2 in array =',2 in array)\n",
    "print('6 in array =',6 in array)\n",
    "print('5 not in array =',5 not in array)\n",
    "print('7 not in array =',7 not in array)"
   ]
  },
  {
   "cell_type": "code",
   "execution_count": 24,
   "metadata": {},
   "outputs": [
    {
     "name": "stdout",
     "output_type": "stream",
     "text": [
      "True\n",
      "False\n"
     ]
    }
   ],
   "source": [
    "#身份运算符,说明两个对象的存储单元一致\n",
    "a = 5\n",
    "b = a\n",
    "print(a is b)\n",
    "st = 'hello world!'\n",
    "st2 = st[:3]\n",
    "print(st is st2)"
   ]
  },
  {
   "cell_type": "code",
   "execution_count": null,
   "metadata": {},
   "outputs": [],
   "source": []
  }
 ],
 "metadata": {
  "kernelspec": {
   "display_name": "Python 3",
   "language": "python",
   "name": "python3"
  },
  "language_info": {
   "codemirror_mode": {
    "name": "ipython",
    "version": 3
   },
   "file_extension": ".py",
   "mimetype": "text/x-python",
   "name": "python",
   "nbconvert_exporter": "python",
   "pygments_lexer": "ipython3",
   "version": "3.7.1"
  }
 },
 "nbformat": 4,
 "nbformat_minor": 2
}
