{
 "cells": [
  {
   "cell_type": "code",
   "execution_count": 42,
   "metadata": {},
   "outputs": [
    {
     "name": "stdout",
     "output_type": "stream",
     "text": [
      "5\n",
      "hello world\n",
      "[2, 3, [4, 5]]\n",
      "3\n",
      "{'key1': 5, 'key2': 'hello world', 5: [2, 3, [4, 5]]}\n"
     ]
    }
   ],
   "source": [
    "#创建字典，即按索引取值\n",
    "dictt = {'key1':5,'key2':'hello world',5:[2,3,[4,5]]}\n",
    "print(dictt['key1'])\n",
    "print(dictt['key2'])\n",
    "print(dictt[5])\n",
    "print(len(dictt))\n",
    "print(dictt)"
   ]
  },
  {
   "cell_type": "code",
   "execution_count": 14,
   "metadata": {},
   "outputs": [
    {
     "name": "stdout",
     "output_type": "stream",
     "text": [
      "True\n",
      "False\n"
     ]
    }
   ],
   "source": [
    "#用in检查字典中是否有某个键\n",
    "dictt = {'key1':5,'key2':'hello world',5:[2,3,[4,5]]}\n",
    "print(5 in dictt)\n",
    "print('key6' in dictt)"
   ]
  },
  {
   "cell_type": "code",
   "execution_count": 29,
   "metadata": {},
   "outputs": [
    {
     "name": "stdout",
     "output_type": "stream",
     "text": [
      "{'key1': 5, 'key2': 'hello world', 5: [2, 3, [4, 5]], 'he': 'me'}\n"
     ]
    }
   ],
   "source": [
    "#用索引的方式添加键值对\n",
    "dictt = {'key1':5,'key2':'hello world',5:[2,3,[4,5]]}\n",
    "dictt['he'] = 'me'\n",
    "print(dictt)"
   ]
  },
  {
   "cell_type": "code",
   "execution_count": 30,
   "metadata": {},
   "outputs": [
    {
     "name": "stdout",
     "output_type": "stream",
     "text": [
      "{'key2': 'hello world', 5: [2, 3, [4, 5]]}\n"
     ]
    }
   ],
   "source": [
    "# del关键字删除键值对\n",
    "dictt = {'key1':5,'key2':'hello world',5:[2,3,[4,5]]}\n",
    "del dictt['key1']\n",
    "print(dictt)"
   ]
  },
  {
   "cell_type": "code",
   "execution_count": 7,
   "metadata": {},
   "outputs": [
    {
     "name": "stdout",
     "output_type": "stream",
     "text": [
      "{'key2': 'hello world', 5: [2, 3, [4, 5]]}\n",
      "5 default\n"
     ]
    }
   ],
   "source": [
    "#用pop方法删除键值对,参数为键\n",
    "dictt = {'key1':5,'key2':'hello world',5:[2,3,[4,5]]}\n",
    "a = dictt.pop('key1') # 返回所删除的值\n",
    "b = dictt.pop('key3','default')\n",
    "print(dictt)\n",
    "print(a,b)"
   ]
  },
  {
   "cell_type": "code",
   "execution_count": 32,
   "metadata": {},
   "outputs": [
    {
     "name": "stdout",
     "output_type": "stream",
     "text": [
      "dict_keys(['key1', 'key2', 5]) <class 'dict_keys'>\n",
      "dict_values([5, 'hello world', [2, 3, [4, 5]]]) <class 'dict_values'>\n",
      "['key1', 'key2', 5]\n",
      "[5, 'hello world', [2, 3, [4, 5]]]\n"
     ]
    }
   ],
   "source": [
    "#keys和values方法\n",
    "dictt = {'key1':5,'key2':'hello world',5:[2,3,[4,5]]}\n",
    "key_Set = dictt.keys()\n",
    "value_Set = dictt.values()\n",
    "print(key_Set,type(key_Set))\n",
    "print(value_Set,type(value_Set))\n",
    "key_list = list(key_Set)\n",
    "value_list = list(value_Set)\n",
    "#将字典键和字典值存储在列表里使用\n",
    "print(key_list)\n",
    "print(value_list)"
   ]
  },
  {
   "cell_type": "code",
   "execution_count": 33,
   "metadata": {},
   "outputs": [
    {
     "name": "stdout",
     "output_type": "stream",
     "text": [
      "{'key1': 5, 'key2': 7}\n",
      "{'key2': 7}\n"
     ]
    }
   ],
   "source": [
    "#update方法实现字典融合\n",
    "dict1 = {'key1':5}\n",
    "dict2 = {'key2':7}\n",
    "dict1.update(dict2)\n",
    "print(dict1)\n",
    "print(dict2)"
   ]
  },
  {
   "cell_type": "code",
   "execution_count": 34,
   "metadata": {},
   "outputs": [
    {
     "name": "stdout",
     "output_type": "stream",
     "text": [
      "[('key1', 5), ('key2', 'hello world'), (5, [2, 3, [4, 5]])]\n",
      "{'key1': 5, 'key2': 'hello world', 5: [2, 3, [4, 5]]}\n"
     ]
    }
   ],
   "source": [
    "# 用\n",
    "empty_dict = {}\n",
    "# 元组数组,zip函数是每次从每个参数中各取一个值组成元组，最终形成元组列表\n",
    "print(list(zip(key_list, value_list)))\n",
    "for key , value in zip(key_list, value_list):\n",
    "    empty_dict[key] = value\n",
    "print(empty_dict)"
   ]
  },
  {
   "cell_type": "code",
   "execution_count": 3,
   "metadata": {},
   "outputs": [
    {
     "name": "stdout",
     "output_type": "stream",
     "text": [
      "{'key1': 4, 'key2': 5}\n",
      "{'key1': 4, 'key2': 5}\n"
     ]
    }
   ],
   "source": [
    "#键值对可以理解成二维元组\n",
    "map_tuple = (('key1',4),('key2',5))\n",
    "map_tuple2 = [('key1',4),('key2',5)]\n",
    "map_dict = dict(map_tuple)\n",
    "map_dict2 = dict(map_tuple2)\n",
    "print(map_dict)\n",
    "print(map_dict2)"
   ]
  },
  {
   "cell_type": "code",
   "execution_count": 5,
   "metadata": {},
   "outputs": [
    {
     "name": "stdout",
     "output_type": "stream",
     "text": [
      "5\n",
      "default\n"
     ]
    }
   ],
   "source": [
    "#通过键取值\n",
    "dictt = {'key1':5,'key2':'hello world',5:[2,3,[4,5]]}\n",
    "value = dictt.get('key1')\n",
    "value2 = dictt.get(8,'default')\n",
    "print(value)\n",
    "print(value2)"
   ]
  },
  {
   "cell_type": "code",
   "execution_count": 17,
   "metadata": {},
   "outputs": [
    {
     "name": "stdout",
     "output_type": "stream",
     "text": [
      "{2, 3, 4, 5, 6} <class 'set'>\n"
     ]
    }
   ],
   "source": [
    "#只有键没有值的字典\n",
    "sett = {2,3,4,5,6}\n",
    "print(sett,type(sett))"
   ]
  },
  {
   "cell_type": "code",
   "execution_count": 34,
   "metadata": {},
   "outputs": [
    {
     "name": "stdout",
     "output_type": "stream",
     "text": [
      "{2, 3, 4, 5, 6, 7, 8, 'hello'}\n"
     ]
    }
   ],
   "source": [
    "#没有空集这个操作\n",
    "sett = {2}\n",
    "sett.add('hello')\n",
    "sett.update([3,4,5]) #可添加元组，列表等\n",
    "sett.update((6,7,8))\n",
    "print(sett)"
   ]
  },
  {
   "cell_type": "code",
   "execution_count": 31,
   "metadata": {},
   "outputs": [
    {
     "name": "stdout",
     "output_type": "stream",
     "text": [
      "{4, 5}\n"
     ]
    }
   ],
   "source": [
    "#remove and pop\n",
    "sett = {2,3,4,5}\n",
    "sett.remove(2)\n",
    "sett.pop()\n",
    "print(sett)"
   ]
  },
  {
   "cell_type": "code",
   "execution_count": 36,
   "metadata": {},
   "outputs": [
    {
     "name": "stdout",
     "output_type": "stream",
     "text": [
      "True\n",
      "False\n"
     ]
    }
   ],
   "source": [
    "sett = {2,3,4,5}\n",
    "print(2 in sett)\n",
    "print(6 in sett)"
   ]
  },
  {
   "cell_type": "code",
   "execution_count": 40,
   "metadata": {},
   "outputs": [
    {
     "name": "stdout",
     "output_type": "stream",
     "text": [
      "{1, 2, 3, 4, 5, 6, 7}\n",
      "{1, 2, 3, 4, 5, 6, 7}\n"
     ]
    }
   ],
   "source": [
    "#并集\n",
    "set1 = {1,2,3,4,5}\n",
    "set2 = {3,4,5,6,7}\n",
    "union_set = set1.union(set2)\n",
    "print(union_set)\n",
    "print(set1|set2)"
   ]
  },
  {
   "cell_type": "code",
   "execution_count": 41,
   "metadata": {},
   "outputs": [
    {
     "name": "stdout",
     "output_type": "stream",
     "text": [
      "{3, 4, 5}\n",
      "{3, 4, 5}\n"
     ]
    }
   ],
   "source": [
    "#交集\n",
    "set1 = {1,2,3,4,5}\n",
    "set2 = {3,4,5,6,7}\n",
    "inter_set = set1.intersection(set2)\n",
    "print(inter_set)\n",
    "print(set1&set2)"
   ]
  },
  {
   "cell_type": "code",
   "execution_count": 43,
   "metadata": {},
   "outputs": [
    {
     "ename": "SyntaxError",
     "evalue": "invalid syntax (<ipython-input-43-ce023692e87b>, line 4)",
     "output_type": "error",
     "traceback": [
      "\u001b[1;36m  File \u001b[1;32m\"<ipython-input-43-ce023692e87b>\"\u001b[1;36m, line \u001b[1;32m4\u001b[0m\n\u001b[1;33m    print('------------------------------')\u001b[0m\n\u001b[1;37m        ^\u001b[0m\n\u001b[1;31mSyntaxError\u001b[0m\u001b[1;31m:\u001b[0m invalid syntax\n"
     ]
    }
   ],
   "source": [
    "listt = [1,2,3,4,5]\n",
    "for index in range(len(listt)):\n",
    "    print(listt[index\n",
    "print('------------------------------')\n",
    "for index in listt:\n",
    "    print(index)"
   ]
  },
  {
   "cell_type": "code",
   "execution_count": null,
   "metadata": {},
   "outputs": [],
   "source": []
  }
 ],
 "metadata": {
  "kernelspec": {
   "display_name": "Python 3",
   "language": "python",
   "name": "python3"
  },
  "language_info": {
   "codemirror_mode": {
    "name": "ipython",
    "version": 3
   },
   "file_extension": ".py",
   "mimetype": "text/x-python",
   "name": "python",
   "nbconvert_exporter": "python",
   "pygments_lexer": "ipython3",
   "version": "3.7.1"
  }
 },
 "nbformat": 4,
 "nbformat_minor": 2
}
