{
 "cells": [
  {
   "cell_type": "code",
   "execution_count": 13,
   "metadata": {},
   "outputs": [
    {
     "name": "stdout",
     "output_type": "stream",
     "text": [
      "1\n",
      "2\n",
      "3\n",
      "2 <class 'int'>\n",
      "- 3\n",
      "- 4\n",
      "hello <class 'str'>\n"
     ]
    }
   ],
   "source": [
    "# 创建列表\n",
    "array2 = [2,[3,4],\"hello\"]\n",
    "#遍历列表\n",
    "for arr in array2:\n",
    "    if type(arr)==list:\n",
    "        for ar in arr:\n",
    "            print('-',ar)\n",
    "    else:\n",
    "        print(arr,type(arr))"
   ]
  },
  {
   "cell_type": "code",
   "execution_count": 17,
   "metadata": {},
   "outputs": [
    {
     "name": "stdout",
     "output_type": "stream",
     "text": [
      "[1, 2, 3, 6]\n"
     ]
    }
   ],
   "source": [
    "#列表末尾追加元素\n",
    "array = [1,2,3]\n",
    "array.append(6)\n",
    "print(array)"
   ]
  },
  {
   "cell_type": "code",
   "execution_count": 20,
   "metadata": {},
   "outputs": [
    {
     "name": "stdout",
     "output_type": "stream",
     "text": [
      "[1, 2, 3, 4, 5]\n",
      "[1, 2, 4, 5]\n"
     ]
    }
   ],
   "source": [
    "#列表删除元素\n",
    "array = [1,2,3,4,5,6]\n",
    "array.pop()  #无参\n",
    "print(array)\n",
    "array.pop(2) #有参\n",
    "print(array)"
   ]
  },
  {
   "cell_type": "code",
   "execution_count": null,
   "metadata": {},
   "outputs": [],
   "source": []
  }
 ],
 "metadata": {
  "kernelspec": {
   "display_name": "Python 3",
   "language": "python",
   "name": "python3"
  },
  "language_info": {
   "codemirror_mode": {
    "name": "ipython",
    "version": 3
   },
   "file_extension": ".py",
   "mimetype": "text/x-python",
   "name": "python",
   "nbconvert_exporter": "python",
   "pygments_lexer": "ipython3",
   "version": "3.7.1"
  }
 },
 "nbformat": 4,
 "nbformat_minor": 2
}
